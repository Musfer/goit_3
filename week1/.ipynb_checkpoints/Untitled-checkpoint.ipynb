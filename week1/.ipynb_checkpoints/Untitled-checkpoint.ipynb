{
 "cells": [
  {
   "cell_type": "code",
   "execution_count": 118,
   "id": "296981f7",
   "metadata": {},
   "outputs": [
    {
     "name": "stdout",
     "output_type": "stream",
     "text": [
      "Requirement already satisfied: numpy in c:\\users\\musfer\\.virtualenvs\\goit_3-gdpvbzuu\\lib\\site-packages (1.24.2)\n"
     ]
    }
   ],
   "source": [
    "!pip install numpy\n",
    "import numpy as np\n"
   ]
  },
  {
   "cell_type": "raw",
   "id": "d3765ec4",
   "metadata": {},
   "source": [
    "PROBLEM 1\n",
    "\n",
    "Let x1, x2, x3 be amounts of money invested in banks 1, 2, and 3 correspondingly. \n",
    "Then we have a system of linear equations\n",
    "\n",
    "x1 + x2 + x3 = 50000; \n",
    "0.05*x1 + 0.07*x2 = 2250;\n",
    "0.05*x1 + 0.06*x3 = 1400;\n",
    "\n",
    "or Ax=b, where x = [x1,x2,x3]^{T} and"
   ]
  },
  {
   "cell_type": "code",
   "execution_count": 109,
   "id": "ff474a6d",
   "metadata": {},
   "outputs": [],
   "source": [
    "A = np.matrix([[1,1,1], [0.05,0.07,0], [0.05,0,0.06]])\n",
    "b = np.matrix([[50000], [2250], [1400]])"
   ]
  },
  {
   "cell_type": "markdown",
   "id": "ac877d20",
   "metadata": {},
   "source": [
    "the solution of the matrix equation is $x =A^{-1}b$"
   ]
  },
  {
   "cell_type": "code",
   "execution_count": 110,
   "id": "1ad3f02e",
   "metadata": {},
   "outputs": [],
   "source": [
    "A_inv = np.linalg.inv(A)\n",
    "x = A_inv.dot(b)"
   ]
  },
  {
   "cell_type": "code",
   "execution_count": 111,
   "id": "89f3d40c",
   "metadata": {},
   "outputs": [
    {
     "name": "stdout",
     "output_type": "stream",
     "text": [
      "x1 = 9999.999999999998, x2 = 25000.00000000001, x3 = 14999.999999999998\n"
     ]
    }
   ],
   "source": [
    "print(f'x1 = {(x[0].item(0))}, x2 = {(x[1].item(0))}, x3 = {(x[2].item(0))}')"
   ]
  },
  {
   "cell_type": "raw",
   "id": "b065cb36",
   "metadata": {},
   "source": [
    "PROBLEM 2\n",
    "Let ni6, ni11, ni12 be number of corresponding iPhone models in the storage. Then\n",
    "ni6 + ni11 + ni12 = 1328\n",
    "ni11 - ni6 = 120\n",
    "ni6 - ni12 - 100 \n",
    "by the analogy to the first task: Ax=b, where x = [ni6,ni11,ni12]^{T} and"
   ]
  },
  {
   "cell_type": "code",
   "execution_count": 112,
   "id": "c264a77b",
   "metadata": {},
   "outputs": [],
   "source": [
    "A = np.matrix([[1,1,1], [-1,1,0], [1,0,-1]])\n",
    "b = np.matrix([[1328], [120], [100]])\n",
    "x = np.linalg.inv(A).dot(b)"
   ]
  },
  {
   "cell_type": "code",
   "execution_count": 113,
   "id": "49d5ace6",
   "metadata": {},
   "outputs": [
    {
     "name": "stdout",
     "output_type": "stream",
     "text": [
      "436.00000000000006 iPhone6, 556.0000000000001 iPhone11, and 335.99999999999994 iPhone12 models \n"
     ]
    }
   ],
   "source": [
    "print(f'{x[0].item(0)} iPhone6, {x[1].item(0)} iPhone11, and {x[2].item(0)} iPhone12 models ')"
   ]
  },
  {
   "cell_type": "raw",
   "id": "929ce2d8",
   "metadata": {},
   "source": [
    "PROBLEM 3 \n",
    "Let u = [1/a^2, 1/b^2, 1/c^2]^{T}\n",
    "and "
   ]
  },
  {
   "cell_type": "code",
   "execution_count": 114,
   "id": "25c30a05",
   "metadata": {},
   "outputs": [
    {
     "name": "stdout",
     "output_type": "stream",
     "text": [
      "[1.73205081 0.         1.73205081]\n",
      "[2.44948974 0.5        0.        ]\n",
      "[1.         0.57735027 1.        ]\n"
     ]
    }
   ],
   "source": [
    "A = np.sqrt([3, 0, 3])\n",
    "B = np.sqrt([6, 1/4, 0])\n",
    "C = np.sqrt([1, 1/3, 1])\n",
    "print(A)\n",
    "print(B)\n",
    "print(C)"
   ]
  },
  {
   "cell_type": "raw",
   "id": "09cc66f9",
   "metadata": {},
   "source": [
    "then Au=1; Bu=1; Cu=1; or\n",
    "Pu=b, where P=[A;B;C] and b = [1; 1; 1]"
   ]
  },
  {
   "cell_type": "code",
   "execution_count": 115,
   "id": "5471e98f",
   "metadata": {},
   "outputs": [
    {
     "name": "stdout",
     "output_type": "stream",
     "text": [
      "[[0.25881905]\n",
      " [0.73205081]\n",
      " [0.31853122]]\n",
      "a^2=3.863703305156272, b^2=1.3660254037844388, c^2=3.1394096540015854\n"
     ]
    }
   ],
   "source": [
    "P = np.matrix([A, B, C])\n",
    "b = np.matrix([1,1,1]).T\n",
    "\n",
    "u = np.linalg.inv(P).dot(b)\n",
    "print(u)\n",
    "a2, b2, c2 = 1/u\n",
    "print(f'a^2={a2.item(0)}, b^2={b2.item(0)}, c^2={c2.item(0)}')\n"
   ]
  },
  {
   "cell_type": "raw",
   "id": "203d1cf8",
   "metadata": {},
   "source": [
    "Problem 5"
   ]
  },
  {
   "cell_type": "code",
   "execution_count": 116,
   "id": "7ce8293f",
   "metadata": {},
   "outputs": [],
   "source": [
    "def get_polynom(coords): # let len(coords) = n\n",
    "    n = len(coords)\n",
    "    # geneal form of polynom : y =  c0*x^0 + c1*x^1 + c2*x^2 + ... + C_{n-1}x^{n-1} = P(x)\n",
    "    # then for (xi, yi) in coords yi = P(xi), or in the matrix form\n",
    "    # P*c = y, where P[i][j] = [xi^j]\n",
    "    # c = [c0, c1, ...].T and y = [y0, y1, ...].T\n",
    "    P = np.zeros((n, n))\n",
    "    y = np.matrix([t[1] for t in coords]).T\n",
    "    for raw in range(n):\n",
    "        for column in range(n):\n",
    "            P[raw][column] = coords[raw][0]**column\n",
    "    return np.linalg.solve(P, y)"
   ]
  },
  {
   "cell_type": "raw",
   "id": "6b3f3a3e",
   "metadata": {},
   "source": [
    "Problem 4"
   ]
  },
  {
   "cell_type": "code",
   "execution_count": 117,
   "id": "9ee4f431",
   "metadata": {},
   "outputs": [
    {
     "name": "stdout",
     "output_type": "stream",
     "text": [
      "y = 4.0x^2 + 5.0x + 3.0\n"
     ]
    }
   ],
   "source": [
    "c, b, a = get_polynom(((1,12), (3,54), (-1,2)))\n",
    "a, b, c\n",
    "print(f'y = {a.item(0)}x^2 + {b.item(0)}x + {c.item(0)}')"
   ]
  },
  {
   "cell_type": "code",
   "execution_count": null,
   "id": "e1adf367",
   "metadata": {},
   "outputs": [],
   "source": []
  }
 ],
 "metadata": {
  "kernelspec": {
   "display_name": "Python 3 (ipykernel)",
   "language": "python",
   "name": "python3"
  },
  "language_info": {
   "codemirror_mode": {
    "name": "ipython",
    "version": 3
   },
   "file_extension": ".py",
   "mimetype": "text/x-python",
   "name": "python",
   "nbconvert_exporter": "python",
   "pygments_lexer": "ipython3",
   "version": "3.10.8"
  }
 },
 "nbformat": 4,
 "nbformat_minor": 5
}
