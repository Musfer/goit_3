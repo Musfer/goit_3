{
 "cells": [
  {
   "cell_type": "code",
   "execution_count": null,
   "id": "174a68d8",
   "metadata": {},
   "outputs": [],
   "source": [
    "!pip install pandas"
   ]
  },
  {
   "cell_type": "code",
   "execution_count": null,
   "id": "ab9c1a24",
   "metadata": {},
   "outputs": [],
   "source": [
    "import pandas as pd\n",
    "import seaborn as sns\n",
    "import matplotlib.pyplot as plt\n",
    "import numpy as np\n",
    "import warnings\n",
    "warnings.simplefilter(action='ignore', category=FutureWarning)"
   ]
  },
  {
   "cell_type": "markdown",
   "id": "773817f8",
   "metadata": {},
   "source": [
    "### 1. Прочитайте csv файл (використовуйте функцію read_csv)"
   ]
  },
  {
   "cell_type": "code",
   "execution_count": null,
   "id": "1ff4963e",
   "metadata": {},
   "outputs": [],
   "source": [
    "df = pd.read_csv(\"../week2/bestsellers with categories.csv\")"
   ]
  },
  {
   "cell_type": "markdown",
   "id": "6a4e034e",
   "metadata": {},
   "source": [
    "### 2. Виведіть перші п'ять рядків (використовується функція head)"
   ]
  },
  {
   "cell_type": "code",
   "execution_count": null,
   "id": "1c6315a2",
   "metadata": {},
   "outputs": [],
   "source": [
    "df.head(5)"
   ]
  },
  {
   "cell_type": "markdown",
   "id": "0d6f2c05",
   "metadata": {},
   "source": [
    "# Price vs Number of reviews"
   ]
  },
  {
   "cell_type": "code",
   "execution_count": null,
   "id": "8f353b99",
   "metadata": {},
   "outputs": [],
   "source": [
    "sns.scatterplot(x='Price', y='Reviews', hue='Genre', data=df)"
   ]
  },
  {
   "cell_type": "markdown",
   "id": "95c1d6ea",
   "metadata": {},
   "source": [
    "### 3. Виведіть розміри датасету (використовуйте атрибут shape)"
   ]
  },
  {
   "cell_type": "code",
   "execution_count": null,
   "id": "f5e3ef74",
   "metadata": {},
   "outputs": [],
   "source": [
    "df.shape"
   ]
  },
  {
   "cell_type": "markdown",
   "id": "3015b4e0",
   "metadata": {},
   "source": [
    "### 4. Відповідь: Про скільки книг зберігає дані датасет?\n",
    "Про 550 книг"
   ]
  },
  {
   "cell_type": "code",
   "execution_count": null,
   "id": "6a3569ea",
   "metadata": {},
   "outputs": [],
   "source": [
    "df.columns = ['name', 'author', 'user_rating', 'reviews', 'price', 'year', 'genre']\n",
    "df.head(2)"
   ]
  },
  {
   "cell_type": "markdown",
   "id": "516fce19",
   "metadata": {},
   "source": [
    "## Первинне дослідження даних"
   ]
  },
  {
   "cell_type": "markdown",
   "id": "765e9752",
   "metadata": {},
   "source": [
    "### 5. Перевірте, чи у всіх рядків вистачає даних: виведіть кількість пропусків (na) у кожному зі стовпців (використовуйте функції isna та sum)"
   ]
  },
  {
   "cell_type": "code",
   "execution_count": null,
   "id": "5b369fa4",
   "metadata": {},
   "outputs": [],
   "source": [
    "pd.isna(df).sum(0)"
   ]
  },
  {
   "cell_type": "markdown",
   "id": "eebd7717",
   "metadata": {},
   "source": [
    "### 6. Відповідь: Чи є в якихось змінних пропуски? (Так / ні) \n",
    "Ні"
   ]
  },
  {
   "cell_type": "markdown",
   "id": "4f8037a9",
   "metadata": {},
   "source": [
    "### 7. Перевірте, які є унікальні значення в колонці genre (використовуйте функцію unique)"
   ]
  },
  {
   "cell_type": "code",
   "execution_count": null,
   "id": "87fe0ffb",
   "metadata": {},
   "outputs": [],
   "source": [
    "pd.unique(df.genre)"
   ]
  },
  {
   "cell_type": "markdown",
   "id": "6a5cf97b",
   "metadata": {},
   "source": [
    "### 8. Відповідь: Які є унікальні жанри?\n",
    "Fiction and Non Fiction"
   ]
  },
  {
   "cell_type": "markdown",
   "id": "9c56e914",
   "metadata": {},
   "source": [
    "### 9. Тепер подивіться на розподіл цін: побудуйте діаграму (використовуйте kind='hist')"
   ]
  },
  {
   "cell_type": "code",
   "execution_count": null,
   "id": "697a40b0",
   "metadata": {},
   "outputs": [],
   "source": [
    "# df = pd.DataFrame({\n",
    "#     'length': [1.5, 0.5, 1.2, 0.9, 3],\n",
    "#     'width': [0.7, 0.2, 0.15, 0.2, 1.1]\n",
    "#     }, index=['pig', 'rabbit', 'duck', 'chicken', 'horse'])\n",
    "hist = df.price.hist(bins=106)"
   ]
  },
  {
   "cell_type": "markdown",
   "id": "faf0e25c",
   "metadata": {},
   "source": [
    "### 10, 11-14. Визначте, яка ціна у нас максимальна, мінімальна, середня, медіанна (використовуйте функції max, min, mean, median)"
   ]
  },
  {
   "cell_type": "code",
   "execution_count": null,
   "id": "54c7be34",
   "metadata": {},
   "outputs": [],
   "source": [
    "print(f\"min: {df.price.min()}\\nmax: {df.price.max()}\\nmean: {df.price.mean()}\\nmedian: {df.price.median()}\")"
   ]
  },
  {
   "cell_type": "markdown",
   "id": "fb038798",
   "metadata": {},
   "source": [
    "## Пошук та сортування даних"
   ]
  },
  {
   "cell_type": "markdown",
   "id": "b3a521bc",
   "metadata": {},
   "source": [
    "### 15. Відповідь: Який рейтинг у датасеті найвищий? Відповідь:"
   ]
  },
  {
   "cell_type": "code",
   "execution_count": null,
   "id": "d6e77dd1",
   "metadata": {},
   "outputs": [],
   "source": [
    "df.user_rating.max()"
   ]
  },
  {
   "cell_type": "markdown",
   "id": "29c14f9f",
   "metadata": {},
   "source": [
    "### 16. Відповідь: Скільки книг мають такий рейтинг? Відповідь:\n"
   ]
  },
  {
   "cell_type": "code",
   "execution_count": null,
   "id": "a8d144b8",
   "metadata": {},
   "outputs": [],
   "source": [
    "df.user_rating.value_counts()[df.user_rating.max()]"
   ]
  },
  {
   "cell_type": "markdown",
   "id": "cfc685f0",
   "metadata": {},
   "source": [
    "### 17. Відповідь: Яка книга має найбільше відгуків? Відповідь:"
   ]
  },
  {
   "cell_type": "code",
   "execution_count": null,
   "id": "b16c671c",
   "metadata": {},
   "outputs": [],
   "source": [
    "df.loc[df[\"reviews\"].idxmax()]"
   ]
  },
  {
   "cell_type": "markdown",
   "id": "edb180fe",
   "metadata": {},
   "source": [
    "### 18. Відповідь: З тих книг, що потрапили до Топ-50 у 2015 році, яка книга найдорожча (можна використати проміжний датафрейм)? Відповідь:"
   ]
  },
  {
   "cell_type": "code",
   "execution_count": null,
   "id": "6ac44107",
   "metadata": {},
   "outputs": [],
   "source": [
    "df_2015 = df[df.year == 2015]\n",
    "df_2015.loc[df_2015[\"price\"].idxmax()]"
   ]
  },
  {
   "cell_type": "markdown",
   "id": "8aeb2e08",
   "metadata": {},
   "source": [
    "### 19. Відповідь: Скільки книг жанру Fiction потрапили до Топ-50 у 2010 році (використовуйте &)? Відповідь:"
   ]
  },
  {
   "cell_type": "code",
   "execution_count": null,
   "id": "c29fd6c1",
   "metadata": {},
   "outputs": [],
   "source": [
    "df[(df.year == 2010) & (df.genre == \"Fiction\")].shape[0]"
   ]
  },
  {
   "cell_type": "markdown",
   "id": "e3a2f808",
   "metadata": {},
   "source": [
    "### 20. Відповідь: Скільки книг з рейтингом 4.9 потрапило до рейтингу у 2010 та 2011 роках (використовуйте | або функцію isin)? Відповідь:"
   ]
  },
  {
   "cell_type": "code",
   "execution_count": null,
   "id": "20f2002c",
   "metadata": {},
   "outputs": [],
   "source": [
    "df[(df.year.isin([2010,2011])) & (df.user_rating == 4.9)].shape[0]"
   ]
  },
  {
   "cell_type": "markdown",
   "id": "d01de0ed",
   "metadata": {},
   "source": [
    "### 21. І насамкінець, давайте відсортуємо за зростанням ціни всі книги, які потрапили до рейтингу в 2015 році і коштують дешевше за 8 доларів (використовуйте функцію sort_values)."
   ]
  },
  {
   "cell_type": "code",
   "execution_count": null,
   "id": "112bc37d",
   "metadata": {},
   "outputs": [],
   "source": [
    "df[(df.year == 2015) & (df.price<8)].sort_values(by='price')"
   ]
  },
  {
   "cell_type": "markdown",
   "id": "f32990e4",
   "metadata": {},
   "source": [
    "### 22. Відповідь: Яка книга остання у відсортованому списку? Відповідь:"
   ]
  },
  {
   "cell_type": "code",
   "execution_count": null,
   "id": "bcd76d4d",
   "metadata": {},
   "outputs": [],
   "source": [
    "df[(df.year == 2015) & (df.price<8)].sort_values(by='price').iloc[-1]"
   ]
  },
  {
   "cell_type": "markdown",
   "id": "affb8287",
   "metadata": {},
   "source": [
    "## Агрегування даних та з'єднання таблиць"
   ]
  },
  {
   "cell_type": "markdown",
   "id": "d42af60b",
   "metadata": {},
   "source": [
    "### 23. Для початку давайте подивимося на максимальну та мінімальну ціни для кожного з жанрів (використовуйте функції groupby та agg, для підрахунку мінімальних та максимальних значень використовуйте max та min). Не беріть усі стовпці, виберіть тільки потрібні вам "
   ]
  },
  {
   "cell_type": "code",
   "execution_count": null,
   "id": "79088768",
   "metadata": {},
   "outputs": [],
   "source": [
    "df.groupby(['genre']).agg({'price':['min','max']})"
   ]
  },
  {
   "cell_type": "markdown",
   "id": "a7a16a66",
   "metadata": {},
   "source": [
    "### 24-27. Відповідь: Максимальна ціна для жанру Fiction: Відповідь\n",
    "82\n",
    "\n",
    "### Відповідь: Мінімальна ціна для жанру Fiction: Відповідь\n",
    "0\n",
    "\n",
    "### Відповідь: Максимальна ціна для жанру Non Fiction: Відповідь\n",
    "105\n",
    "\n",
    "### Відповідь: Мінімальна ціна для жанру Non Fiction: Відповідь \n",
    "0"
   ]
  },
  {
   "cell_type": "markdown",
   "id": "e4e24438",
   "metadata": {},
   "source": [
    "### 28. Тепер створіть новий датафрейм, який вміщатиме кількість книг для кожного з авторів (використовуйте функції groupby та agg, для підрахунку кількості використовуйте count). Не беріть усі стовпці, виберете тільки потрібні"
   ]
  },
  {
   "cell_type": "code",
   "execution_count": null,
   "id": "3dcb5368",
   "metadata": {},
   "outputs": [],
   "source": [
    "df_authors = df.groupby(['author']).author.agg('count').reset_index(name='counts')\n",
    "df_authors.head(5)"
   ]
  },
  {
   "cell_type": "markdown",
   "id": "f40f80d2",
   "metadata": {},
   "source": [
    "### 29. Відповідь: Якої розмірності вийшла таблиця? Відповідь"
   ]
  },
  {
   "cell_type": "code",
   "execution_count": null,
   "id": "b0c84c51",
   "metadata": {},
   "outputs": [],
   "source": [
    "df_authors.shape"
   ]
  },
  {
   "cell_type": "markdown",
   "id": "083673ba",
   "metadata": {},
   "source": [
    "### 30. Відповідь: Який автор має найбільше книг? Відповідь:\n",
    "### 31. Відповідь: Скільки книг цього автора? Відповідь:"
   ]
  },
  {
   "cell_type": "code",
   "execution_count": null,
   "id": "11a356f6",
   "metadata": {},
   "outputs": [],
   "source": [
    "df_authors.sort_values(by=['counts'], ascending=False).head(1)"
   ]
  },
  {
   "cell_type": "markdown",
   "id": "a9d7b86f",
   "metadata": {},
   "source": [
    "# Top 10 authors by number of books in top 50 since 2009"
   ]
  },
  {
   "cell_type": "code",
   "execution_count": null,
   "id": "7d604544",
   "metadata": {},
   "outputs": [],
   "source": [
    "authors = df_authors.sort_values(by=['counts'], ascending=False).head(10)[\"author\"]\n",
    "years = df.year.unique()\n",
    "years.sort()\n",
    "sns.set(rc={'figure.figsize':(11.7,8.27)})\n",
    "data = {}\n",
    "for year in years:\n",
    "    total_books = []\n",
    "    for author in authors:\n",
    "        total_books.append(df[(df.author == author) & (df.year<=year)].shape[0])\n",
    "    data[year] = np.array(total_books)\n",
    "new_df = pd.DataFrame(data,\n",
    "    index=authors,\n",
    ")\n",
    "# print(data)  \n",
    "new_df.columns\n",
    "new_df \n",
    "for author in authors:\n",
    "    y = new_df.loc[author]\n",
    "    x = years\n",
    "    plt.plot(x,y, label=author)\n",
    "plt.legend()\n",
    "\n",
    "        "
   ]
  },
  {
   "cell_type": "markdown",
   "id": "575dc850",
   "metadata": {},
   "source": [
    "### 32. Тепер створіть другий датафрейм, який буде вміщати середній рейтинг для кожного автора (використовуйте функції groupby та agg, для підрахунку середнього значення використовуйте mean). Не беріть усі стовпці, виберете тільки потрібні"
   ]
  },
  {
   "cell_type": "code",
   "execution_count": null,
   "id": "d12f1e77",
   "metadata": {},
   "outputs": [],
   "source": [
    "\n",
    "df_author_rating = df.groupby(['author']).user_rating.agg('mean').reset_index(name='av_rating')\n",
    "df_author_rating\n"
   ]
  },
  {
   "cell_type": "markdown",
   "id": "a2983c51",
   "metadata": {},
   "source": [
    "### 33-34. Відповідь: У якого автора середній рейтинг мінімальний? Відповідь:\n",
    "### Відповідь: Який у цього автора середній рейтинг? Відповідь:"
   ]
  },
  {
   "cell_type": "code",
   "execution_count": null,
   "id": "d50a842c",
   "metadata": {},
   "outputs": [],
   "source": [
    "df_author_rating.loc[df_author_rating[\"av_rating\"].idxmax()]"
   ]
  },
  {
   "cell_type": "markdown",
   "id": "13fa7a53",
   "metadata": {},
   "source": [
    "### 35. З'єднайте останні два датафрейми так, щоб для кожного автора було видно кількість книг та середній рейтинг (Використовуйте функцію concat з параметром axis=1). Збережіть результат у змінну"
   ]
  },
  {
   "cell_type": "code",
   "execution_count": null,
   "id": "889ba3a3",
   "metadata": {},
   "outputs": [],
   "source": [
    "print(df_authors.shape)\n",
    "print(df_author_rating.shape)\n",
    "new_df = pd.concat([df_authors.set_index('author'), df_author_rating.set_index('author')], axis=1)\n",
    "new_df"
   ]
  },
  {
   "cell_type": "markdown",
   "id": "7a5b2cf1",
   "metadata": {},
   "source": [
    "### 36. Відсортуйте датафрейм за зростаючою кількістю книг та зростаючим рейтингом (використовуйте функцію sort_values)"
   ]
  },
  {
   "cell_type": "code",
   "execution_count": null,
   "id": "ee46e3c2",
   "metadata": {},
   "outputs": [],
   "source": [
    "new_df.sort_values(by=['counts', 'av_rating'], inplace=True)\n",
    "new_df.head(5)"
   ]
  },
  {
   "cell_type": "markdown",
   "id": "f8c46d1d",
   "metadata": {},
   "source": [
    "### 37. Відповідь: Який автор перший у списку?"
   ]
  },
  {
   "cell_type": "code",
   "execution_count": null,
   "id": "f30982bf",
   "metadata": {},
   "outputs": [],
   "source": [
    "new_df.head(1)"
   ]
  },
  {
   "cell_type": "code",
   "execution_count": null,
   "id": "ba8034ed",
   "metadata": {},
   "outputs": [],
   "source": []
  }
 ],
 "metadata": {
  "kernelspec": {
   "display_name": "Python 3 (ipykernel)",
   "language": "python",
   "name": "python3"
  },
  "language_info": {
   "codemirror_mode": {
    "name": "ipython",
    "version": 3
   },
   "file_extension": ".py",
   "mimetype": "text/x-python",
   "name": "python",
   "nbconvert_exporter": "python",
   "pygments_lexer": "ipython3",
   "version": "3.10.8"
  }
 },
 "nbformat": 4,
 "nbformat_minor": 5
}
