{
 "cells": [
  {
   "cell_type": "code",
   "execution_count": 2,
   "id": "693dae8b",
   "metadata": {},
   "outputs": [],
   "source": [
    "import scipy\n",
    "import matplotlib.pyplot as plt"
   ]
  },
  {
   "cell_type": "markdown",
   "id": "cd771802",
   "metadata": {},
   "source": [
    "Let's assume that river flows vertically (from south to north).\n",
    "\n",
    "To build the fence we start at some point right to the river coast.\n",
    "\n",
    "We are building a fence $a$ meters right, then $b$ meters north, and $a$ meters left.\n",
    "\n",
    "The area of the rectangle adjacent to the river:\n",
    "\n",
    "$S = a*b$ m$^2$ $=1000$ m$^2$,\n",
    "\n",
    "so $a=1000/b$, but let's assume that we don't know that\n",
    "\n",
    "The legth of the fence is:\n",
    "\n",
    "$P = 2a + b$ m "
   ]
  },
  {
   "cell_type": "code",
   "execution_count": 31,
   "id": "599c006e",
   "metadata": {},
   "outputs": [
    {
     "name": "stdout",
     "output_type": "stream",
     "text": [
      "a = 22.36068030783936 m\n",
      "b = 44.721358484312894 m\n",
      "S=1000.0 m^2\n",
      "P=89.44271909999162 m\n"
     ]
    }
   ],
   "source": [
    "S = 1000\n",
    "eps = 0.00000000000000000001\n",
    "\n",
    "def P(x):\n",
    "    return 2*x[0] + x[1]\n",
    "    \n",
    "def Area(x):\n",
    "    return x[0]*x[1] - S\n",
    "\n",
    "\n",
    "cons = [{'type':'eq', 'fun': Area}]\n",
    "\n",
    "popt = scipy.optimize.minimize(P, (1, 1000), bounds=((0,1000),(0,1000)), constraints=cons)\n",
    "a, b = popt.x \n",
    "print(f\"a = {a} m\\nb = {b} m\")\n",
    "print(f\"S={a*b} m^2\")\n",
    "print(f\"P={2*a+b} m\")"
   ]
  },
  {
   "cell_type": "markdown",
   "id": "191a9c78",
   "metadata": {},
   "source": [
    "Analitic solution:\n",
    "\n",
    "$P = 2a + S/a$\n",
    "\n",
    "$dP/da = 2 - S/a^2 = 0$\n",
    "\n",
    "$a = \\sqrt{S/2}= \\sqrt{500}= 22.360679775$"
   ]
  },
  {
   "cell_type": "code",
   "execution_count": null,
   "id": "b109d925",
   "metadata": {},
   "outputs": [],
   "source": []
  }
 ],
 "metadata": {
  "kernelspec": {
   "display_name": "Python 3 (ipykernel)",
   "language": "python",
   "name": "python3"
  },
  "language_info": {
   "codemirror_mode": {
    "name": "ipython",
    "version": 3
   },
   "file_extension": ".py",
   "mimetype": "text/x-python",
   "name": "python",
   "nbconvert_exporter": "python",
   "pygments_lexer": "ipython3",
   "version": "3.10.8"
  }
 },
 "nbformat": 4,
 "nbformat_minor": 5
}
